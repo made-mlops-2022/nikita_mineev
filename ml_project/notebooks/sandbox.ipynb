{
 "cells": [
  {
   "cell_type": "code",
   "execution_count": 118,
   "metadata": {
    "id": "dvgElCT6-sL4"
   },
   "outputs": [],
   "source": [
    "import pandas as pd\n",
    "import dataprep.eda as eda\n",
    "import catboost\n",
    "from catboost import CatBoostClassifier\n",
    "from sklearn.model_selection import train_test_split\n",
    "from sklearn.metrics import f1_score\n",
    "import dataprep.eda as eda"
   ]
  },
  {
   "cell_type": "code",
   "execution_count": 49,
   "metadata": {},
   "outputs": [],
   "source": [
    "import os"
   ]
  },
  {
   "cell_type": "code",
   "execution_count": 2,
   "metadata": {
    "id": "E3HW3Lpl_rLs"
   },
   "outputs": [],
   "source": [
    "df = pd.read_csv(\"../data/raw/heart_cleveland_upload.csv\")"
   ]
  },
  {
   "cell_type": "code",
   "execution_count": 3,
   "metadata": {
    "id": "v1tirx986xrK"
   },
   "outputs": [],
   "source": [
    "target_features = [\"condition\"]\n",
    "pred_features = [colname for colname in df.columns.tolist() if colname not in target_features]\n",
    "num_features = ['age', 'trestbps', 'chol', 'thalach', 'oldpeak']\n",
    "cat_features = ['sex', 'cp', 'fbs', 'restecg', 'exang', 'slope', 'ca', 'thal']"
   ]
  },
  {
   "cell_type": "code",
   "execution_count": 4,
   "metadata": {
    "id": "JXjRlJIXBOLo"
   },
   "outputs": [],
   "source": [
    "train_size = int(df.shape[0] * 0.75)\n",
    "val_size = (df.shape[0] - train_size) // 2\n",
    "test_size = (df.shape[0] - train_size - val_size)"
   ]
  },
  {
   "cell_type": "code",
   "execution_count": 5,
   "metadata": {
    "id": "hy7-d-1iAmy-"
   },
   "outputs": [],
   "source": [
    "X_train, X_test = train_test_split(df, test_size=test_size)\n",
    "X_train, X_val = train_test_split(X_train, test_size=val_size)"
   ]
  },
  {
   "cell_type": "code",
   "execution_count": 6,
   "metadata": {},
   "outputs": [],
   "source": [
    "train_pool = catboost.Pool(data=X_train[pred_features], label=X_train[target_features], cat_features=cat_features)\n",
    "val_pool = catboost.Pool(data=X_val[pred_features], label=X_val[target_features], cat_features=cat_features)\n",
    "test_pool = catboost.Pool(data=X_test[pred_features], label=X_test[target_features], cat_features=cat_features)"
   ]
  },
  {
   "cell_type": "code",
   "execution_count": 33,
   "metadata": {},
   "outputs": [],
   "source": [
    "model_params = {\n",
    "    \"iterations\": 400, \n",
    "    \"learning_rate\": 0.05,\n",
    "    #\"depth\": 4,\n",
    "    #\"l2_leaf_reg\": 3,\n",
    "    \"loss_function\": \"Logloss\",\n",
    "    \"eval_metric\": \"F1\",\n",
    "    \"random_seed\": 42,\n",
    "    \"use_best_model\": True, \n",
    "    \"verbose\": 50,\n",
    "    \"task_type\": \"CPU\",\n",
    "    #\"early_stopping_rounds\": 20,\n",
    "#     \"od_type\": \"IncToDec\",\n",
    "#     \"od_pval\": 1e-2,\n",
    "    \"metric_period\": 50,\n",
    "}"
   ]
  },
  {
   "cell_type": "code",
   "execution_count": 34,
   "metadata": {},
   "outputs": [
    {
     "data": {
      "application/vnd.jupyter.widget-view+json": {
       "model_id": "7cdfc2c841da43b7abb49ee81b018b04",
       "version_major": 2,
       "version_minor": 0
      },
      "text/plain": [
       "MetricVisualizer(layout=Layout(align_self='stretch', height='500px'))"
      ]
     },
     "metadata": {},
     "output_type": "display_data"
    },
    {
     "name": "stdout",
     "output_type": "stream",
     "text": [
      "0:\tlearn: 0.8195122\ttest: 0.8292683\tbest: 0.8292683 (0)\ttotal: 2.79ms\tremaining: 1.11s\n",
      "50:\tlearn: 0.9300000\ttest: 0.8717949\tbest: 0.8717949 (50)\ttotal: 84.9ms\tremaining: 581ms\n",
      "100:\tlearn: 0.9901961\ttest: 0.9230769\tbest: 0.9230769 (100)\ttotal: 162ms\tremaining: 481ms\n",
      "150:\tlearn: 0.9950739\ttest: 0.9230769\tbest: 0.9230769 (100)\ttotal: 240ms\tremaining: 395ms\n",
      "200:\tlearn: 1.0000000\ttest: 0.9000000\tbest: 0.9230769 (100)\ttotal: 320ms\tremaining: 317ms\n",
      "250:\tlearn: 1.0000000\ttest: 0.9000000\tbest: 0.9230769 (100)\ttotal: 393ms\tremaining: 233ms\n",
      "300:\tlearn: 1.0000000\ttest: 0.9000000\tbest: 0.9230769 (100)\ttotal: 468ms\tremaining: 154ms\n",
      "350:\tlearn: 1.0000000\ttest: 0.9000000\tbest: 0.9230769 (100)\ttotal: 546ms\tremaining: 76.3ms\n",
      "399:\tlearn: 1.0000000\ttest: 0.9230769\tbest: 0.9230769 (100)\ttotal: 622ms\tremaining: 0us\n",
      "\n",
      "bestTest = 0.9230769231\n",
      "bestIteration = 100\n",
      "\n",
      "Shrink model to first 101 iterations.\n"
     ]
    }
   ],
   "source": [
    "clf = CatBoostClassifier(**model_params)\n",
    "clf.fit(train_pool, eval_set=val_pool, plot=True);"
   ]
  },
  {
   "cell_type": "code",
   "execution_count": 35,
   "metadata": {},
   "outputs": [
    {
     "data": {
      "text/plain": [
       "0.8275862068965517"
      ]
     },
     "execution_count": 35,
     "metadata": {},
     "output_type": "execute_result"
    }
   ],
   "source": [
    "f1_score(X_test[target_features], clf.predict(X_test))"
   ]
  },
  {
   "cell_type": "code",
   "execution_count": 36,
   "metadata": {},
   "outputs": [],
   "source": [
    "clf.save_model(\"../models/catboost_model\")"
   ]
  },
  {
   "cell_type": "code",
   "execution_count": 37,
   "metadata": {},
   "outputs": [],
   "source": [
    "clf1 = CatBoostClassifier(**model_params)"
   ]
  },
  {
   "cell_type": "code",
   "execution_count": 38,
   "metadata": {},
   "outputs": [
    {
     "data": {
      "text/plain": [
       "<catboost.core.CatBoostClassifier at 0x7fe22dfc7bb0>"
      ]
     },
     "execution_count": 38,
     "metadata": {},
     "output_type": "execute_result"
    }
   ],
   "source": [
    "clf1.load_model(\"../models/catboost_model\")"
   ]
  },
  {
   "cell_type": "code",
   "execution_count": 39,
   "metadata": {},
   "outputs": [
    {
     "data": {
      "text/plain": [
       "0.8275862068965517"
      ]
     },
     "execution_count": 39,
     "metadata": {},
     "output_type": "execute_result"
    }
   ],
   "source": [
    "f1_score(X_test[target_features], clf1.predict(X_test))"
   ]
  },
  {
   "cell_type": "code",
   "execution_count": 83,
   "metadata": {},
   "outputs": [
    {
     "data": {
      "text/html": [
       "<div>\n",
       "<style scoped>\n",
       "    .dataframe tbody tr th:only-of-type {\n",
       "        vertical-align: middle;\n",
       "    }\n",
       "\n",
       "    .dataframe tbody tr th {\n",
       "        vertical-align: top;\n",
       "    }\n",
       "\n",
       "    .dataframe thead th {\n",
       "        text-align: right;\n",
       "    }\n",
       "</style>\n",
       "<table border=\"1\" class=\"dataframe\">\n",
       "  <thead>\n",
       "    <tr style=\"text-align: right;\">\n",
       "      <th></th>\n",
       "      <th>age</th>\n",
       "      <th>sex</th>\n",
       "      <th>cp</th>\n",
       "      <th>trestbps</th>\n",
       "      <th>chol</th>\n",
       "      <th>fbs</th>\n",
       "      <th>restecg</th>\n",
       "      <th>thalach</th>\n",
       "      <th>exang</th>\n",
       "      <th>oldpeak</th>\n",
       "      <th>slope</th>\n",
       "      <th>ca</th>\n",
       "      <th>thal</th>\n",
       "      <th>condition</th>\n",
       "    </tr>\n",
       "  </thead>\n",
       "  <tbody>\n",
       "    <tr>\n",
       "      <th>0</th>\n",
       "      <td>69</td>\n",
       "      <td>1</td>\n",
       "      <td>0</td>\n",
       "      <td>160</td>\n",
       "      <td>234</td>\n",
       "      <td>1</td>\n",
       "      <td>2</td>\n",
       "      <td>131</td>\n",
       "      <td>0</td>\n",
       "      <td>0.1</td>\n",
       "      <td>1</td>\n",
       "      <td>1</td>\n",
       "      <td>0</td>\n",
       "      <td>0</td>\n",
       "    </tr>\n",
       "    <tr>\n",
       "      <th>1</th>\n",
       "      <td>69</td>\n",
       "      <td>0</td>\n",
       "      <td>0</td>\n",
       "      <td>140</td>\n",
       "      <td>239</td>\n",
       "      <td>0</td>\n",
       "      <td>0</td>\n",
       "      <td>151</td>\n",
       "      <td>0</td>\n",
       "      <td>1.8</td>\n",
       "      <td>0</td>\n",
       "      <td>2</td>\n",
       "      <td>0</td>\n",
       "      <td>0</td>\n",
       "    </tr>\n",
       "    <tr>\n",
       "      <th>2</th>\n",
       "      <td>66</td>\n",
       "      <td>0</td>\n",
       "      <td>0</td>\n",
       "      <td>150</td>\n",
       "      <td>226</td>\n",
       "      <td>0</td>\n",
       "      <td>0</td>\n",
       "      <td>114</td>\n",
       "      <td>0</td>\n",
       "      <td>2.6</td>\n",
       "      <td>2</td>\n",
       "      <td>0</td>\n",
       "      <td>0</td>\n",
       "      <td>0</td>\n",
       "    </tr>\n",
       "    <tr>\n",
       "      <th>3</th>\n",
       "      <td>65</td>\n",
       "      <td>1</td>\n",
       "      <td>0</td>\n",
       "      <td>138</td>\n",
       "      <td>282</td>\n",
       "      <td>1</td>\n",
       "      <td>2</td>\n",
       "      <td>174</td>\n",
       "      <td>0</td>\n",
       "      <td>1.4</td>\n",
       "      <td>1</td>\n",
       "      <td>1</td>\n",
       "      <td>0</td>\n",
       "      <td>1</td>\n",
       "    </tr>\n",
       "    <tr>\n",
       "      <th>4</th>\n",
       "      <td>64</td>\n",
       "      <td>1</td>\n",
       "      <td>0</td>\n",
       "      <td>110</td>\n",
       "      <td>211</td>\n",
       "      <td>0</td>\n",
       "      <td>2</td>\n",
       "      <td>144</td>\n",
       "      <td>1</td>\n",
       "      <td>1.8</td>\n",
       "      <td>1</td>\n",
       "      <td>0</td>\n",
       "      <td>0</td>\n",
       "      <td>0</td>\n",
       "    </tr>\n",
       "  </tbody>\n",
       "</table>\n",
       "</div>"
      ],
      "text/plain": [
       "   age  sex  cp  trestbps  chol  fbs  restecg  thalach  exang  oldpeak  slope  \\\n",
       "0   69    1   0       160   234    1        2      131      0      0.1      1   \n",
       "1   69    0   0       140   239    0        0      151      0      1.8      0   \n",
       "2   66    0   0       150   226    0        0      114      0      2.6      2   \n",
       "3   65    1   0       138   282    1        2      174      0      1.4      1   \n",
       "4   64    1   0       110   211    0        2      144      1      1.8      1   \n",
       "\n",
       "   ca  thal  condition  \n",
       "0   1     0          0  \n",
       "1   2     0          0  \n",
       "2   0     0          0  \n",
       "3   1     0          1  \n",
       "4   0     0          0  "
      ]
     },
     "execution_count": 83,
     "metadata": {},
     "output_type": "execute_result"
    }
   ],
   "source": [
    "df.head()"
   ]
  },
  {
   "cell_type": "code",
   "execution_count": 85,
   "metadata": {},
   "outputs": [
    {
     "data": {
      "text/plain": [
       "age           54.542088\n",
       "sex            0.676768\n",
       "cp             2.158249\n",
       "trestbps     131.693603\n",
       "chol         247.350168\n",
       "fbs            0.144781\n",
       "restecg        0.996633\n",
       "thalach      149.599327\n",
       "exang          0.326599\n",
       "oldpeak        1.055556\n",
       "slope          0.602694\n",
       "ca             0.676768\n",
       "thal           0.835017\n",
       "condition      0.461279\n",
       "dtype: float64"
      ]
     },
     "execution_count": 85,
     "metadata": {},
     "output_type": "execute_result"
    }
   ],
   "source": [
    "df.mean(axis=0)"
   ]
  },
  {
   "cell_type": "code",
   "execution_count": 84,
   "metadata": {},
   "outputs": [
    {
     "data": {
      "text/html": [
       "<div>\n",
       "<style scoped>\n",
       "    .dataframe tbody tr th:only-of-type {\n",
       "        vertical-align: middle;\n",
       "    }\n",
       "\n",
       "    .dataframe tbody tr th {\n",
       "        vertical-align: top;\n",
       "    }\n",
       "\n",
       "    .dataframe thead th {\n",
       "        text-align: right;\n",
       "    }\n",
       "</style>\n",
       "<table border=\"1\" class=\"dataframe\">\n",
       "  <thead>\n",
       "    <tr style=\"text-align: right;\">\n",
       "      <th></th>\n",
       "      <th>age</th>\n",
       "      <th>sex</th>\n",
       "      <th>cp</th>\n",
       "      <th>trestbps</th>\n",
       "      <th>chol</th>\n",
       "      <th>fbs</th>\n",
       "      <th>restecg</th>\n",
       "      <th>thalach</th>\n",
       "      <th>exang</th>\n",
       "      <th>oldpeak</th>\n",
       "      <th>slope</th>\n",
       "      <th>ca</th>\n",
       "      <th>thal</th>\n",
       "      <th>condition</th>\n",
       "    </tr>\n",
       "  </thead>\n",
       "  <tbody>\n",
       "    <tr>\n",
       "      <th>0</th>\n",
       "      <td>14.457912</td>\n",
       "      <td>0.323232</td>\n",
       "      <td>-2.158249</td>\n",
       "      <td>28.306397</td>\n",
       "      <td>-13.350168</td>\n",
       "      <td>0.855219</td>\n",
       "      <td>1.003367</td>\n",
       "      <td>-18.599327</td>\n",
       "      <td>-0.326599</td>\n",
       "      <td>-0.955556</td>\n",
       "      <td>0.397306</td>\n",
       "      <td>0.323232</td>\n",
       "      <td>-0.835017</td>\n",
       "      <td>-0.461279</td>\n",
       "    </tr>\n",
       "    <tr>\n",
       "      <th>1</th>\n",
       "      <td>14.457912</td>\n",
       "      <td>-0.676768</td>\n",
       "      <td>-2.158249</td>\n",
       "      <td>8.306397</td>\n",
       "      <td>-8.350168</td>\n",
       "      <td>-0.144781</td>\n",
       "      <td>-0.996633</td>\n",
       "      <td>1.400673</td>\n",
       "      <td>-0.326599</td>\n",
       "      <td>0.744444</td>\n",
       "      <td>-0.602694</td>\n",
       "      <td>1.323232</td>\n",
       "      <td>-0.835017</td>\n",
       "      <td>-0.461279</td>\n",
       "    </tr>\n",
       "    <tr>\n",
       "      <th>2</th>\n",
       "      <td>11.457912</td>\n",
       "      <td>-0.676768</td>\n",
       "      <td>-2.158249</td>\n",
       "      <td>18.306397</td>\n",
       "      <td>-21.350168</td>\n",
       "      <td>-0.144781</td>\n",
       "      <td>-0.996633</td>\n",
       "      <td>-35.599327</td>\n",
       "      <td>-0.326599</td>\n",
       "      <td>1.544444</td>\n",
       "      <td>1.397306</td>\n",
       "      <td>-0.676768</td>\n",
       "      <td>-0.835017</td>\n",
       "      <td>-0.461279</td>\n",
       "    </tr>\n",
       "    <tr>\n",
       "      <th>3</th>\n",
       "      <td>10.457912</td>\n",
       "      <td>0.323232</td>\n",
       "      <td>-2.158249</td>\n",
       "      <td>6.306397</td>\n",
       "      <td>34.649832</td>\n",
       "      <td>0.855219</td>\n",
       "      <td>1.003367</td>\n",
       "      <td>24.400673</td>\n",
       "      <td>-0.326599</td>\n",
       "      <td>0.344444</td>\n",
       "      <td>0.397306</td>\n",
       "      <td>0.323232</td>\n",
       "      <td>-0.835017</td>\n",
       "      <td>0.538721</td>\n",
       "    </tr>\n",
       "    <tr>\n",
       "      <th>4</th>\n",
       "      <td>9.457912</td>\n",
       "      <td>0.323232</td>\n",
       "      <td>-2.158249</td>\n",
       "      <td>-21.693603</td>\n",
       "      <td>-36.350168</td>\n",
       "      <td>-0.144781</td>\n",
       "      <td>1.003367</td>\n",
       "      <td>-5.599327</td>\n",
       "      <td>0.673401</td>\n",
       "      <td>0.744444</td>\n",
       "      <td>0.397306</td>\n",
       "      <td>-0.676768</td>\n",
       "      <td>-0.835017</td>\n",
       "      <td>-0.461279</td>\n",
       "    </tr>\n",
       "  </tbody>\n",
       "</table>\n",
       "</div>"
      ],
      "text/plain": [
       "         age       sex        cp   trestbps       chol       fbs   restecg  \\\n",
       "0  14.457912  0.323232 -2.158249  28.306397 -13.350168  0.855219  1.003367   \n",
       "1  14.457912 -0.676768 -2.158249   8.306397  -8.350168 -0.144781 -0.996633   \n",
       "2  11.457912 -0.676768 -2.158249  18.306397 -21.350168 -0.144781 -0.996633   \n",
       "3  10.457912  0.323232 -2.158249   6.306397  34.649832  0.855219  1.003367   \n",
       "4   9.457912  0.323232 -2.158249 -21.693603 -36.350168 -0.144781  1.003367   \n",
       "\n",
       "     thalach     exang   oldpeak     slope        ca      thal  condition  \n",
       "0 -18.599327 -0.326599 -0.955556  0.397306  0.323232 -0.835017  -0.461279  \n",
       "1   1.400673 -0.326599  0.744444 -0.602694  1.323232 -0.835017  -0.461279  \n",
       "2 -35.599327 -0.326599  1.544444  1.397306 -0.676768 -0.835017  -0.461279  \n",
       "3  24.400673 -0.326599  0.344444  0.397306  0.323232 -0.835017   0.538721  \n",
       "4  -5.599327  0.673401  0.744444  0.397306 -0.676768 -0.835017  -0.461279  "
      ]
     },
     "execution_count": 84,
     "metadata": {},
     "output_type": "execute_result"
    }
   ],
   "source": [
    "(df - df.mean(axis=0)) / df"
   ]
  },
  {
   "cell_type": "code",
   "execution_count": 89,
   "metadata": {},
   "outputs": [
    {
     "data": {
      "text/html": [
       "<div>\n",
       "<style scoped>\n",
       "    .dataframe tbody tr th:only-of-type {\n",
       "        vertical-align: middle;\n",
       "    }\n",
       "\n",
       "    .dataframe tbody tr th {\n",
       "        vertical-align: top;\n",
       "    }\n",
       "\n",
       "    .dataframe thead th {\n",
       "        text-align: right;\n",
       "    }\n",
       "</style>\n",
       "<table border=\"1\" class=\"dataframe\">\n",
       "  <thead>\n",
       "    <tr style=\"text-align: right;\">\n",
       "      <th></th>\n",
       "      <th>sex_1</th>\n",
       "    </tr>\n",
       "  </thead>\n",
       "  <tbody>\n",
       "    <tr>\n",
       "      <th>0</th>\n",
       "      <td>1</td>\n",
       "    </tr>\n",
       "    <tr>\n",
       "      <th>1</th>\n",
       "      <td>0</td>\n",
       "    </tr>\n",
       "    <tr>\n",
       "      <th>2</th>\n",
       "      <td>0</td>\n",
       "    </tr>\n",
       "    <tr>\n",
       "      <th>3</th>\n",
       "      <td>1</td>\n",
       "    </tr>\n",
       "    <tr>\n",
       "      <th>4</th>\n",
       "      <td>1</td>\n",
       "    </tr>\n",
       "    <tr>\n",
       "      <th>...</th>\n",
       "      <td>...</td>\n",
       "    </tr>\n",
       "    <tr>\n",
       "      <th>292</th>\n",
       "      <td>1</td>\n",
       "    </tr>\n",
       "    <tr>\n",
       "      <th>293</th>\n",
       "      <td>1</td>\n",
       "    </tr>\n",
       "    <tr>\n",
       "      <th>294</th>\n",
       "      <td>1</td>\n",
       "    </tr>\n",
       "    <tr>\n",
       "      <th>295</th>\n",
       "      <td>0</td>\n",
       "    </tr>\n",
       "    <tr>\n",
       "      <th>296</th>\n",
       "      <td>1</td>\n",
       "    </tr>\n",
       "  </tbody>\n",
       "</table>\n",
       "<p>297 rows × 1 columns</p>\n",
       "</div>"
      ],
      "text/plain": [
       "     sex_1\n",
       "0        1\n",
       "1        0\n",
       "2        0\n",
       "3        1\n",
       "4        1\n",
       "..     ...\n",
       "292      1\n",
       "293      1\n",
       "294      1\n",
       "295      0\n",
       "296      1\n",
       "\n",
       "[297 rows x 1 columns]"
      ]
     },
     "execution_count": 89,
     "metadata": {},
     "output_type": "execute_result"
    }
   ],
   "source": [
    "pd.get_dummies(df.sex, prefix=\"sex\", drop_first=True)"
   ]
  },
  {
   "cell_type": "code",
   "execution_count": 107,
   "metadata": {},
   "outputs": [],
   "source": [
    "from sklearn.base import BaseEstimator, TransformerMixin\n",
    "\n",
    "\n",
    "class NormalizeAndOHEncode(BaseEstimator, TransformerMixin):\n",
    "    def __init__(self, num_features, cat_features):\n",
    "        self.num_features = num_features\n",
    "        self.cat_features = cat_features\n",
    "    \n",
    "    def fit(self, X, y=None):\n",
    "        self.means = X[self.num_features].mean(axis=0)\n",
    "        self.stds = X[self.num_features].std(axis=0) + 1e-10\n",
    "        return self\n",
    "    \n",
    "    def transform(self, X_, y=None):\n",
    "        X = X_.copy()\n",
    "        X[self.num_features] -= self.means\n",
    "        X[self.num_features] /= self.stds\n",
    "        for colname in cat_features:\n",
    "            colname_oh = pd.get_dummies(X[colname], prefix=colname, drop_first=True)\n",
    "            X = X.drop(colname, axis=1).join(colname_oh)\n",
    "        return X"
   ]
  },
  {
   "cell_type": "code",
   "execution_count": 108,
   "metadata": {},
   "outputs": [],
   "source": [
    "trans = NormalizeAndOHEncode(num_features, cat_features)"
   ]
  },
  {
   "cell_type": "code",
   "execution_count": 110,
   "metadata": {},
   "outputs": [],
   "source": [
    "trans_df = trans.fit_transform(df)"
   ]
  },
  {
   "cell_type": "code",
   "execution_count": 111,
   "metadata": {},
   "outputs": [
    {
     "data": {
      "text/plain": [
       "['sex', 'cp', 'fbs', 'restecg', 'exang', 'slope', 'ca', 'thal']"
      ]
     },
     "execution_count": 111,
     "metadata": {},
     "output_type": "execute_result"
    }
   ],
   "source": [
    "cat_features"
   ]
  },
  {
   "cell_type": "code",
   "execution_count": 112,
   "metadata": {},
   "outputs": [
    {
     "data": {
      "text/plain": [
       "Index(['age', 'trestbps', 'chol', 'thalach', 'oldpeak', 'condition', 'sex_1',\n",
       "       'cp_1', 'cp_2', 'cp_3', 'fbs_1', 'restecg_1', 'restecg_2', 'exang_1',\n",
       "       'slope_1', 'slope_2', 'ca_1', 'ca_2', 'ca_3', 'thal_1', 'thal_2'],\n",
       "      dtype='object')"
      ]
     },
     "execution_count": 112,
     "metadata": {},
     "output_type": "execute_result"
    }
   ],
   "source": [
    "trans_df.columns"
   ]
  },
  {
   "cell_type": "code",
   "execution_count": 113,
   "metadata": {},
   "outputs": [],
   "source": [
    "import pickle"
   ]
  },
  {
   "cell_type": "code",
   "execution_count": 114,
   "metadata": {},
   "outputs": [],
   "source": [
    "with open(\"../models/trans.pkl\", \"wb\") as f:\n",
    "    pickle.dump(trans, f)\n",
    "with open(\"../models/trans.pkl\", \"rb\") as f:\n",
    "    trans1 = pickle.load(f)"
   ]
  },
  {
   "cell_type": "code",
   "execution_count": 116,
   "metadata": {},
   "outputs": [
    {
     "data": {
      "text/plain": [
       "(NormalizeAndOHEncode(cat_features=['sex', 'cp', 'fbs', 'restecg', 'exang',\n",
       "                                    'slope', 'ca', 'thal'],\n",
       "                      num_features=['age', 'trestbps', 'chol', 'thalach',\n",
       "                                    'oldpeak']),\n",
       " NormalizeAndOHEncode(cat_features=['sex', 'cp', 'fbs', 'restecg', 'exang',\n",
       "                                    'slope', 'ca', 'thal'],\n",
       "                      num_features=['age', 'trestbps', 'chol', 'thalach',\n",
       "                                    'oldpeak']))"
      ]
     },
     "execution_count": 116,
     "metadata": {},
     "output_type": "execute_result"
    }
   ],
   "source": [
    "trans1"
   ]
  },
  {
   "cell_type": "code",
   "execution_count": 120,
   "metadata": {},
   "outputs": [
    {
     "data": {
      "application/vnd.jupyter.widget-view+json": {
       "model_id": "",
       "version_major": 2,
       "version_minor": 0
      },
      "text/plain": [
       "  0%|          | 0/1789 [00:00<?, ?it/s]"
      ]
     },
     "metadata": {},
     "output_type": "display_data"
    },
    {
     "name": "stderr",
     "output_type": "stream",
     "text": [
      "/home/putin/miniconda3/envs/made-mlops-hws/lib/python3.9/site-packages/dask/core.py:119: RuntimeWarning: invalid value encountered in divide\n",
      "  return func(*(_execute_task(a, cache) for a in args))\n"
     ]
    }
   ],
   "source": [
    "report = eda.create_report(df, title=\"Jopa\")"
   ]
  },
  {
   "cell_type": "code",
   "execution_count": 123,
   "metadata": {},
   "outputs": [
    {
     "name": "stdout",
     "output_type": "stream",
     "text": [
      "Report has been saved to ../reports/jopa.html!\n"
     ]
    }
   ],
   "source": [
    "report.save(\"../reports/jopa\")"
   ]
  },
  {
   "cell_type": "code",
   "execution_count": null,
   "metadata": {},
   "outputs": [],
   "source": []
  }
 ],
 "metadata": {
  "colab": {
   "provenance": []
  },
  "kernelspec": {
   "display_name": "Python 3 (ipykernel)",
   "language": "python",
   "name": "python3"
  },
  "language_info": {
   "codemirror_mode": {
    "name": "ipython",
    "version": 3
   },
   "file_extension": ".py",
   "mimetype": "text/x-python",
   "name": "python",
   "nbconvert_exporter": "python",
   "pygments_lexer": "ipython3",
   "version": "3.9.13"
  }
 },
 "nbformat": 4,
 "nbformat_minor": 1
}
